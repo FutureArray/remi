{
 "cells": [
  {
   "cell_type": "code",
   "execution_count": 1,
   "metadata": {},
   "outputs": [],
   "source": [
    "# For Python2.6 compatibility\n",
    "from __future__ import print_function\n",
    "\n",
    "import pretty_midi\n",
    "import numpy as np\n",
    "# For plotting\n",
    "import mir_eval.display\n",
    "import librosa.display\n",
    "import matplotlib.pyplot as plt\n",
    "%matplotlib inline\n",
    "# For putting audio in the notebook\n",
    "import IPython.display"
   ]
  },
  {
   "cell_type": "code",
   "execution_count": 2,
   "metadata": {},
   "outputs": [],
   "source": [
    "# We'll load in the example.mid file distributed with pretty_midi\n",
    "pm = pretty_midi.PrettyMIDI('/Users/xinyutang/workspace/fa_music/remi/remi/data/train/001.midi')"
   ]
  },
  {
   "cell_type": "code",
   "execution_count": null,
   "metadata": {},
   "outputs": [],
   "source": [
    "print(pm.instruments)"
   ]
  },
  {
   "cell_type": "code",
   "execution_count": null,
   "metadata": {},
   "outputs": [],
   "source": [
    "pm.instruments[0].program=122\n",
    "pm.instruments[0].is_drum=False\n",
    "pm.instruments[0].name='music box'"
   ]
  },
  {
   "cell_type": "code",
   "execution_count": null,
   "metadata": {},
   "outputs": [],
   "source": [
    "# Synthesis frequency\n",
    "fs = 44100\n",
    "IPython.display.Audio(pm.synthesize(fs=fs), rate=fs)\n",
    "# Sounds like sine waves...\n"
   ]
  },
  {
   "cell_type": "code",
   "execution_count": null,
   "metadata": {},
   "outputs": [],
   "source": [
    "fs=44100\n",
    "IPython.display.Audio(pm.fluidsynth(fs=fs), rate=fs)\n",
    "# Sounds (kind of) like a cello!"
   ]
  },
  {
   "cell_type": "code",
   "execution_count": null,
   "metadata": {},
   "outputs": [],
   "source": [
    "fs=44100\n",
    "sfpath='/Users/xinyutang/workspace/fa_music/remi/remi/data/soundfont/soundfont_selected/add27/GeneralUser GS SoftSynth v1.44.sf2'\n",
    "IPython.display.Audio(pm.fluidsynth(fs=fs,sf2_path=sfpath), rate=fs)\n",
    "# Sounds (kind of) like a cello!"
   ]
  },
  {
   "cell_type": "code",
   "execution_count": 5,
   "metadata": {},
   "outputs": [
    {
     "name": "stdout",
     "output_type": "stream",
     "text": [
      "原始速度: 155.22 BPM\n",
      "调整后的速度: 226.93 BPM, speed factor: 0.52 \n"
     ]
    }
   ],
   "source": [
    "#修改速度\n",
    "# 打印原始速度\n",
    "original_tempo = pm.estimate_tempo()\n",
    "print(f\"原始速度: {original_tempo:.2f} BPM\")\n",
    "\n",
    "\n",
    "# 定义新的速度（例如，将速度加快到原来的1.5倍）\n",
    "# speed_factor = 1.5\n",
    "new_tempo = 80\n",
    "speed_factor=original_tempo/new_tempo\n",
    "\n",
    "# 调整 MIDI 文件的速度\n",
    "pm.adjust_times([0, pm.get_end_time()], [0, pm.get_end_time() *speed_factor])\n",
    "\n",
    "# 打印新的速度\n",
    "adjusted_tempo = pm.estimate_tempo()\n",
    "print(f\"调整后的速度: {adjusted_tempo:.2f} BPM, speed factor: {speed_factor:.2f} \")"
   ]
  }
 ],
 "metadata": {
  "kernelspec": {
   "display_name": "py37tf114",
   "language": "python",
   "name": "python3"
  },
  "language_info": {
   "codemirror_mode": {
    "name": "ipython",
    "version": 3
   },
   "file_extension": ".py",
   "mimetype": "text/x-python",
   "name": "python",
   "nbconvert_exporter": "python",
   "pygments_lexer": "ipython3",
   "version": "3.7.12"
  }
 },
 "nbformat": 4,
 "nbformat_minor": 2
}
